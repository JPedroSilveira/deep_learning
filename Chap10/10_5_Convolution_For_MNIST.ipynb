{
  "nbformat": 4,
  "nbformat_minor": 0,
  "metadata": {
    "colab": {
      "provenance": [],
      "include_colab_link": true
    },
    "kernelspec": {
      "name": "python3",
      "display_name": "Python 3"
    },
    "language_info": {
      "name": "python"
    }
  },
  "cells": [
    {
      "cell_type": "markdown",
      "metadata": {
        "id": "view-in-github",
        "colab_type": "text"
      },
      "source": [
        "<a href=\"https://colab.research.google.com/github/JPedroSilveira/understanding_deep_learning/blob/main/Chap10/10_5_Convolution_For_MNIST.ipynb\" target=\"_parent\"><img src=\"https://colab.research.google.com/assets/colab-badge.svg\" alt=\"Open In Colab\"/></a>"
      ]
    },
    {
      "cell_type": "markdown",
      "source": [
        "# **Notebook 10.5: Convolution for MNIST**\n",
        "\n",
        "This notebook builds a proper network for 2D convolution.  It works with the MNIST dataset (figure 15.15a), which was the original classic dataset for classifying images.  The network will take a 28x28 grayscale image and classify it into one of 10 classes representing a digit.\n",
        "\n",
        "The code is adapted from https://nextjournal.com/gkoehler/pytorch-mnist\n",
        "\n",
        "Work through the cells below, running each cell in turn. In various places you will see the words \"TO DO\". Follow the instructions at these places and make predictions about what is going to happen or write code to complete the functions.\n",
        "\n",
        "Contact me at udlbookmail@gmail.com if you find any mistakes or have any suggestions.\n"
      ],
      "metadata": {
        "id": "t9vk9Elugvmi"
      }
    },
    {
      "cell_type": "code",
      "source": [
        "import torch\n",
        "import torchvision\n",
        "import torch.nn as nn\n",
        "import torch.nn.functional as F\n",
        "import torch.optim as optim\n",
        "import matplotlib.pyplot as plt\n",
        "import random"
      ],
      "metadata": {
        "id": "YrXWAH7sUWvU"
      },
      "execution_count": 1,
      "outputs": []
    },
    {
      "cell_type": "code",
      "source": [
        "# Run this once to load the train and test data straight into a dataloader class\n",
        "# that will provide the batches\n",
        "batch_size_train = 64\n",
        "batch_size_test = 1000\n",
        "train_loader = torch.utils.data.DataLoader(\n",
        "  torchvision.datasets.MNIST('/files/', train=True, download=True,\n",
        "                             transform=torchvision.transforms.Compose([\n",
        "                               torchvision.transforms.ToTensor(),\n",
        "                               torchvision.transforms.Normalize(\n",
        "                                 (0.1307,), (0.3081,))\n",
        "                             ])),\n",
        "  batch_size=batch_size_train, shuffle=True)\n",
        "\n",
        "test_loader = torch.utils.data.DataLoader(\n",
        "  torchvision.datasets.MNIST('/files/', train=False, download=True,\n",
        "                             transform=torchvision.transforms.Compose([\n",
        "                               torchvision.transforms.ToTensor(),\n",
        "                               torchvision.transforms.Normalize(\n",
        "                                 (0.1307,), (0.3081,))\n",
        "                             ])),\n",
        "  batch_size=batch_size_test, shuffle=True)"
      ],
      "metadata": {
        "id": "wScBGXXFVadm",
        "outputId": "77f1007d-f755-494a-e183-22f83367f350",
        "colab": {
          "base_uri": "https://localhost:8080/"
        }
      },
      "execution_count": 2,
      "outputs": [
        {
          "output_type": "stream",
          "name": "stdout",
          "text": [
            "Downloading http://yann.lecun.com/exdb/mnist/train-images-idx3-ubyte.gz\n",
            "Downloading http://yann.lecun.com/exdb/mnist/train-images-idx3-ubyte.gz to /files/MNIST/raw/train-images-idx3-ubyte.gz\n"
          ]
        },
        {
          "output_type": "stream",
          "name": "stderr",
          "text": [
            "100%|██████████| 9912422/9912422 [00:00<00:00, 94008459.47it/s]\n"
          ]
        },
        {
          "output_type": "stream",
          "name": "stdout",
          "text": [
            "Extracting /files/MNIST/raw/train-images-idx3-ubyte.gz to /files/MNIST/raw\n",
            "\n",
            "Downloading http://yann.lecun.com/exdb/mnist/train-labels-idx1-ubyte.gz\n",
            "Downloading http://yann.lecun.com/exdb/mnist/train-labels-idx1-ubyte.gz to /files/MNIST/raw/train-labels-idx1-ubyte.gz\n"
          ]
        },
        {
          "output_type": "stream",
          "name": "stderr",
          "text": [
            "100%|██████████| 28881/28881 [00:00<00:00, 4510059.71it/s]\n"
          ]
        },
        {
          "output_type": "stream",
          "name": "stdout",
          "text": [
            "Extracting /files/MNIST/raw/train-labels-idx1-ubyte.gz to /files/MNIST/raw\n",
            "\n",
            "Downloading http://yann.lecun.com/exdb/mnist/t10k-images-idx3-ubyte.gz\n",
            "Downloading http://yann.lecun.com/exdb/mnist/t10k-images-idx3-ubyte.gz to /files/MNIST/raw/t10k-images-idx3-ubyte.gz\n"
          ]
        },
        {
          "output_type": "stream",
          "name": "stderr",
          "text": [
            "100%|██████████| 1648877/1648877 [00:00<00:00, 32999916.00it/s]\n"
          ]
        },
        {
          "output_type": "stream",
          "name": "stdout",
          "text": [
            "Extracting /files/MNIST/raw/t10k-images-idx3-ubyte.gz to /files/MNIST/raw\n",
            "\n",
            "Downloading http://yann.lecun.com/exdb/mnist/t10k-labels-idx1-ubyte.gz\n",
            "Downloading http://yann.lecun.com/exdb/mnist/t10k-labels-idx1-ubyte.gz to /files/MNIST/raw/t10k-labels-idx1-ubyte.gz\n"
          ]
        },
        {
          "output_type": "stream",
          "name": "stderr",
          "text": [
            "100%|██████████| 4542/4542 [00:00<00:00, 13646510.58it/s]"
          ]
        },
        {
          "output_type": "stream",
          "name": "stdout",
          "text": [
            "Extracting /files/MNIST/raw/t10k-labels-idx1-ubyte.gz to /files/MNIST/raw\n",
            "\n"
          ]
        },
        {
          "output_type": "stream",
          "name": "stderr",
          "text": [
            "\n"
          ]
        }
      ]
    },
    {
      "cell_type": "code",
      "source": [
        "# Let's draw some of the training data\n",
        "examples = enumerate(test_loader)\n",
        "batch_idx, (example_data, example_targets) = next(examples)\n",
        "\n",
        "fig = plt.figure()\n",
        "for i in range(6):\n",
        "  plt.subplot(2,3,i+1)\n",
        "  plt.tight_layout()\n",
        "  plt.imshow(example_data[i][0], cmap='gray', interpolation='none')\n",
        "  plt.title(\"Ground Truth: {}\".format(example_targets[i]))\n",
        "  plt.xticks([])\n",
        "  plt.yticks([])\n",
        "plt.show()"
      ],
      "metadata": {
        "id": "8bKADvLHbiV5",
        "outputId": "8204a7db-29b1-4e66-c98a-d0475c0e47ef",
        "colab": {
          "base_uri": "https://localhost:8080/",
          "height": 438
        }
      },
      "execution_count": 3,
      "outputs": [
        {
          "output_type": "display_data",
          "data": {
            "text/plain": [
              "<Figure size 640x480 with 6 Axes>"
            ],
            "image/png": "[encoded data removed]"
          },
          "metadata": {}
        }
      ]
    },
    {
      "cell_type": "markdown",
      "source": [
        "Define the network.  This is a more typical way to define a network than the sequential structure.  We define a class for the network, and define the parameters in the constructor.  Then we use a function called forward to actually run the network.  It's easy to see how you might use residual connections in this format."
      ],
      "metadata": {
        "id": "_sFvRDGrl4qe"
      }
    },
    {
      "cell_type": "code",
      "source": [
        "from os import X_OK\n",
        "# TODO Change this class to implement\n",
        "# 1. A valid convolution with kernel size 5, 1 input channel and 10 output channels\n",
        "# 2. A max pooling operation over a 2x2 area\n",
        "# 3. A Relu\n",
        "# 4. A valid convolution with kernel size 5, 10 input channels and 20 output channels\n",
        "# 5. A 2D Dropout layer\n",
        "# 6. A max pooling operation over a 2x2 area\n",
        "# 7. A relu\n",
        "# 8. A flattening operation\n",
        "# 9. A fully connected layer mapping from (whatever dimensions we are at-- find out using .shape) to 50\n",
        "# 10. A ReLU\n",
        "# 11. A fully connected layer mapping from 50 to 10 dimensions\n",
        "# 12. A softmax function.\n",
        "\n",
        "# Replace this class which implements a minimal network (which still does okay)\n",
        "class Net(nn.Module):\n",
        "    def __init__(self):\n",
        "        super(Net, self).__init__()\n",
        "        # 1. A valid convolution with kernel size 5, 1 input channel and 10 output channels\n",
        "        self.conv1 = nn.Conv2d(1, 10, kernel_size=5)\n",
        "        # 4. A valid convolution with kernel size 5, 10 input channels and 20 output channels\n",
        "        self.conv2 = nn.Conv2d(10, 20, kernel_size=5)\n",
        "        # 5. A 2D Dropout layer\n",
        "        self.conv2_drop = nn.Dropout2d()\n",
        "        # 9. A fully connected layer mapping from (whatever dimensions we are at-- find out using .shape) to 50\n",
        "        self.fc1 = nn.Linear(320, 50)\n",
        "        # 11. A fully connected layer mapping from 50 to 10 dimensions\n",
        "        self.fc2 = nn.Linear(50, 10)\n",
        "\n",
        "    def forward(self, x):\n",
        "        # 1. A valid convolution with kernel size 5, 1 input channel and 10 output channels\n",
        "        x = F.relu(F.max_pool2d(self.conv1(x), 2)) # 2. A max pooling operation over a 2x2 area, 3. A Relu\n",
        "        # 4. A valid convolution with kernel size 5, 10 input channels and 20 output channels\n",
        "        x = F.relu(F.max_pool2d(self.conv2_drop(self.conv2(x)), 2)) # 5. A 2D Dropout layer, 6. A max pooling operation over a 2x2 area, 7. A relu\n",
        "        # 8. A flattening operation\n",
        "        x = x.view(-1, 320)\n",
        "        # 9. A fully connected layer mapping from (whatever dimensions we are at-- find out using .shape) to 50\n",
        "        x = F.relu(self.fc1(x)) # 10. A ReLU\n",
        "        # 11. A fully connected layer mapping from 50 to 10 dimensions\n",
        "        x = self.fc2(x)\n",
        "        # 12. A softmax function.\n",
        "        return F.log_softmax(x, dim=1)\n",
        "\n",
        "\n",
        "\n",
        "\n"
      ],
      "metadata": {
        "id": "EQkvw2KOPVl7"
      },
      "execution_count": 10,
      "outputs": []
    },
    {
      "cell_type": "code",
      "source": [
        "# He initialization of weights\n",
        "def weights_init(layer_in):\n",
        "  if isinstance(layer_in, nn.Linear):\n",
        "    nn.init.kaiming_uniform_(layer_in.weight)\n",
        "    layer_in.bias.data.fill_(0.0)"
      ],
      "metadata": {
        "id": "qWZtkCZcU_dg"
      },
      "execution_count": 11,
      "outputs": []
    },
    {
      "cell_type": "code",
      "source": [
        "# Create network\n",
        "model = Net()\n",
        "# Initialize model weights\n",
        "model.apply(weights_init)\n",
        "# Define optimizer\n",
        "optimizer = optim.SGD(model.parameters(), lr=0.01, momentum=0.5)"
      ],
      "metadata": {
        "id": "FslroPJJffrh"
      },
      "execution_count": 12,
      "outputs": []
    },
    {
      "cell_type": "code",
      "source": [
        "# Main training routine\n",
        "def train(epoch):\n",
        "  model.train()\n",
        "  # Get each\n",
        "  for batch_idx, (data, target) in enumerate(train_loader):\n",
        "    optimizer.zero_grad()\n",
        "    output = model(data)\n",
        "    loss = F.nll_loss(output, target)\n",
        "    loss.backward()\n",
        "    optimizer.step()\n",
        "    # Store results\n",
        "    if batch_idx % 10 == 0:\n",
        "      print('Train Epoch: {} [{}/{}]\\tLoss: {:.6f}'.format(\n",
        "        epoch, batch_idx * len(data), len(train_loader.dataset), loss.item()))"
      ],
      "metadata": {
        "id": "xKQd9PzkQ766"
      },
      "execution_count": 13,
      "outputs": []
    },
    {
      "cell_type": "code",
      "source": [
        "# Run on test data\n",
        "def test():\n",
        "  model.eval()\n",
        "  test_loss = 0\n",
        "  correct = 0\n",
        "  with torch.no_grad():\n",
        "    for data, target in test_loader:\n",
        "      output = model(data)\n",
        "      test_loss += F.nll_loss(output, target, size_average=False).item()\n",
        "      pred = output.data.max(1, keepdim=True)[1]\n",
        "      correct += pred.eq(target.data.view_as(pred)).sum()\n",
        "  test_loss /= len(test_loader.dataset)\n",
        "  print('\\nTest set: Avg. loss: {:.4f}, Accuracy: {}/{} ({:.0f}%)\\n'.format(\n",
        "    test_loss, correct, len(test_loader.dataset),\n",
        "    100. * correct / len(test_loader.dataset)))"
      ],
      "metadata": {
        "id": "Byn-f7qWRLxX"
      },
      "execution_count": 14,
      "outputs": []
    },
    {
      "cell_type": "code",
      "source": [
        "# Get initial performance\n",
        "test()\n",
        "# Train for three epochs\n",
        "n_epochs = 3\n",
        "for epoch in range(1, n_epochs + 1):\n",
        "  train(epoch)\n",
        "  test()"
      ],
      "metadata": {
        "id": "YgLaex1pfhqz",
        "outputId": "759fd8de-f696-4930-d949-f8d5c43c2239",
        "colab": {
          "base_uri": "https://localhost:8080/"
        }
      },
      "execution_count": 15,
      "outputs": [
        {
          "output_type": "stream",
          "name": "stderr",
          "text": [
            "/usr/local/lib/python3.10/dist-packages/torch/nn/_reduction.py:42: UserWarning: size_average and reduce args will be deprecated, please use reduction='sum' instead.\n",
            "  warnings.warn(warning.format(ret))\n"
          ]
        },
        {
          "output_type": "stream",
          "name": "stdout",
          "text": [
            "\n",
            "Test set: Avg. loss: 2.4273, Accuracy: 851/10000 (9%)\n",
            "\n",
            "Train Epoch: 1 [0/60000]\tLoss: 2.737799\n",
            "Train Epoch: 1 [640/60000]\tLoss: 2.104811\n",
            "Train Epoch: 1 [1280/60000]\tLoss: 2.081859\n",
            "Train Epoch: 1 [1920/60000]\tLoss: 1.772607\n",
            "Train Epoch: 1 [2560/60000]\tLoss: 1.499900\n",
            "Train Epoch: 1 [3200/60000]\tLoss: 1.558245\n",
            "Train Epoch: 1 [3840/60000]\tLoss: 1.309257\n",
            "Train Epoch: 1 [4480/60000]\tLoss: 1.098389\n",
            "Train Epoch: 1 [5120/60000]\tLoss: 1.037442\n",
            "Train Epoch: 1 [5760/60000]\tLoss: 0.920096\n",
            "Train Epoch: 1 [6400/60000]\tLoss: 0.882417\n",
            "Train Epoch: 1 [7040/60000]\tLoss: 0.969238\n",
            "Train Epoch: 1 [7680/60000]\tLoss: 0.855949\n",
            "Train Epoch: 1 [8320/60000]\tLoss: 0.815761\n",
            "Train Epoch: 1 [8960/60000]\tLoss: 0.663163\n",
            "Train Epoch: 1 [9600/60000]\tLoss: 0.816693\n",
            "Train Epoch: 1 [10240/60000]\tLoss: 0.677810\n",
            "Train Epoch: 1 [10880/60000]\tLoss: 0.705297\n",
            "Train Epoch: 1 [11520/60000]\tLoss: 0.784585\n",
            "Train Epoch: 1 [12160/60000]\tLoss: 0.819891\n",
            "Train Epoch: 1 [12800/60000]\tLoss: 0.810789\n",
            "Train Epoch: 1 [13440/60000]\tLoss: 0.810743\n",
            "Train Epoch: 1 [14080/60000]\tLoss: 0.627334\n",
            "Train Epoch: 1 [14720/60000]\tLoss: 0.823968\n",
            "Train Epoch: 1 [15360/60000]\tLoss: 0.717405\n",
            "Train Epoch: 1 [16000/60000]\tLoss: 0.355865\n",
            "Train Epoch: 1 [16640/60000]\tLoss: 0.623188\n",
            "Train Epoch: 1 [17280/60000]\tLoss: 0.639282\n",
            "Train Epoch: 1 [17920/60000]\tLoss: 0.520255\n",
            "Train Epoch: 1 [18560/60000]\tLoss: 0.519789\n",
            "Train Epoch: 1 [19200/60000]\tLoss: 0.375687\n",
            "Train Epoch: 1 [19840/60000]\tLoss: 0.523400\n",
            "Train Epoch: 1 [20480/60000]\tLoss: 0.384087\n",
            "Train Epoch: 1 [21120/60000]\tLoss: 0.319385\n",
            "Train Epoch: 1 [21760/60000]\tLoss: 0.393649\n",
            "Train Epoch: 1 [22400/60000]\tLoss: 0.264342\n",
            "Train Epoch: 1 [23040/60000]\tLoss: 0.452946\n",
            "Train Epoch: 1 [23680/60000]\tLoss: 0.297088\n",
            "Train Epoch: 1 [24320/60000]\tLoss: 0.285262\n",
            "Train Epoch: 1 [24960/60000]\tLoss: 0.327175\n",
            "Train Epoch: 1 [25600/60000]\tLoss: 0.316297\n",
            "Train Epoch: 1 [26240/60000]\tLoss: 0.336921\n",
            "Train Epoch: 1 [26880/60000]\tLoss: 0.386361\n",
            "Train Epoch: 1 [27520/60000]\tLoss: 0.512384\n",
            "Train Epoch: 1 [28160/60000]\tLoss: 0.719012\n",
            "Train Epoch: 1 [28800/60000]\tLoss: 0.336531\n",
            "Train Epoch: 1 [29440/60000]\tLoss: 0.232958\n",
            "Train Epoch: 1 [30080/60000]\tLoss: 0.253785\n",
            "Train Epoch: 1 [30720/60000]\tLoss: 0.570079\n",
            "Train Epoch: 1 [31360/60000]\tLoss: 0.538703\n",
            "Train Epoch: 1 [32000/60000]\tLoss: 0.492311\n",
            "Train Epoch: 1 [32640/60000]\tLoss: 0.440236\n",
            "Train Epoch: 1 [33280/60000]\tLoss: 0.430041\n",
            "Train Epoch: 1 [33920/60000]\tLoss: 0.422663\n",
            "Train Epoch: 1 [34560/60000]\tLoss: 0.390950\n",
            "Train Epoch: 1 [35200/60000]\tLoss: 0.355030\n",
            "Train Epoch: 1 [35840/60000]\tLoss: 0.239794\n",
            "Train Epoch: 1 [36480/60000]\tLoss: 0.333373\n",
            "Train Epoch: 1 [37120/60000]\tLoss: 0.428412\n",
            "Train Epoch: 1 [37760/60000]\tLoss: 0.228037\n",
            "Train Epoch: 1 [38400/60000]\tLoss: 0.417741\n",
            "Train Epoch: 1 [39040/60000]\tLoss: 0.229531\n",
            "Train Epoch: 1 [39680/60000]\tLoss: 0.387643\n",
            "Train Epoch: 1 [40320/60000]\tLoss: 0.237777\n",
            "Train Epoch: 1 [40960/60000]\tLoss: 0.362998\n",
            "Train Epoch: 1 [41600/60000]\tLoss: 0.566341\n",
            "Train Epoch: 1 [42240/60000]\tLoss: 0.263346\n",
            "Train Epoch: 1 [42880/60000]\tLoss: 0.378391\n",
            "Train Epoch: 1 [43520/60000]\tLoss: 0.313641\n",
            "Train Epoch: 1 [44160/60000]\tLoss: 0.459772\n",
            "Train Epoch: 1 [44800/60000]\tLoss: 0.643854\n",
            "Train Epoch: 1 [45440/60000]\tLoss: 0.280001\n",
            "Train Epoch: 1 [46080/60000]\tLoss: 0.323029\n",
            "Train Epoch: 1 [46720/60000]\tLoss: 0.243662\n",
            "Train Epoch: 1 [47360/60000]\tLoss: 0.115937\n",
            "Train Epoch: 1 [48000/60000]\tLoss: 0.274579\n",
            "Train Epoch: 1 [48640/60000]\tLoss: 0.561419\n",
            "Train Epoch: 1 [49280/60000]\tLoss: 0.155802\n",
            "Train Epoch: 1 [49920/60000]\tLoss: 0.186568\n",
            "Train Epoch: 1 [50560/60000]\tLoss: 0.239692\n",
            "Train Epoch: 1 [51200/60000]\tLoss: 0.171134\n",
            "Train Epoch: 1 [51840/60000]\tLoss: 0.374628\n",
            "Train Epoch: 1 [52480/60000]\tLoss: 0.291921\n",
            "Train Epoch: 1 [53120/60000]\tLoss: 0.254845\n",
            "Train Epoch: 1 [53760/60000]\tLoss: 0.349259\n",
            "Train Epoch: 1 [54400/60000]\tLoss: 0.255328\n",
            "Train Epoch: 1 [55040/60000]\tLoss: 0.232649\n",
            "Train Epoch: 1 [55680/60000]\tLoss: 0.256243\n",
            "Train Epoch: 1 [56320/60000]\tLoss: 0.314695\n",
            "Train Epoch: 1 [56960/60000]\tLoss: 0.352140\n",
            "Train Epoch: 1 [57600/60000]\tLoss: 0.402228\n",
            "Train Epoch: 1 [58240/60000]\tLoss: 0.285428\n",
            "Train Epoch: 1 [58880/60000]\tLoss: 0.161694\n",
            "Train Epoch: 1 [59520/60000]\tLoss: 0.244449\n",
            "\n",
            "Test set: Avg. loss: 0.1445, Accuracy: 9533/10000 (95%)\n",
            "\n",
            "Train Epoch: 2 [0/60000]\tLoss: 0.164784\n",
            "Train Epoch: 2 [640/60000]\tLoss: 0.302151\n",
            "Train Epoch: 2 [1280/60000]\tLoss: 0.123816\n",
            "Train Epoch: 2 [1920/60000]\tLoss: 0.304283\n",
            "Train Epoch: 2 [2560/60000]\tLoss: 0.266052\n",
            "Train Epoch: 2 [3200/60000]\tLoss: 0.279075\n",
            "Train Epoch: 2 [3840/60000]\tLoss: 0.161364\n",
            "Train Epoch: 2 [4480/60000]\tLoss: 0.293074\n",
            "Train Epoch: 2 [5120/60000]\tLoss: 0.216202\n",
            "Train Epoch: 2 [5760/60000]\tLoss: 0.299849\n",
            "Train Epoch: 2 [6400/60000]\tLoss: 0.208407\n",
            "Train Epoch: 2 [7040/60000]\tLoss: 0.206606\n",
            "Train Epoch: 2 [7680/60000]\tLoss: 0.477520\n",
            "Train Epoch: 2 [8320/60000]\tLoss: 0.231923\n",
            "Train Epoch: 2 [8960/60000]\tLoss: 0.235226\n",
            "Train Epoch: 2 [9600/60000]\tLoss: 0.301692\n",
            "Train Epoch: 2 [10240/60000]\tLoss: 0.311071\n",
            "Train Epoch: 2 [10880/60000]\tLoss: 0.162289\n",
            "Train Epoch: 2 [11520/60000]\tLoss: 0.160197\n",
            "Train Epoch: 2 [12160/60000]\tLoss: 0.273636\n",
            "Train Epoch: 2 [12800/60000]\tLoss: 0.133176\n",
            "Train Epoch: 2 [13440/60000]\tLoss: 0.297720\n",
            "Train Epoch: 2 [14080/60000]\tLoss: 0.408213\n",
            "Train Epoch: 2 [14720/60000]\tLoss: 0.267623\n",
            "Train Epoch: 2 [15360/60000]\tLoss: 0.121379\n",
            "Train Epoch: 2 [16000/60000]\tLoss: 0.305228\n",
            "Train Epoch: 2 [16640/60000]\tLoss: 0.222404\n",
            "Train Epoch: 2 [17280/60000]\tLoss: 0.161671\n",
            "Train Epoch: 2 [17920/60000]\tLoss: 0.266522\n",
            "Train Epoch: 2 [18560/60000]\tLoss: 0.399008\n",
            "Train Epoch: 2 [19200/60000]\tLoss: 0.305131\n",
            "Train Epoch: 2 [19840/60000]\tLoss: 0.205766\n",
            "Train Epoch: 2 [20480/60000]\tLoss: 0.116038\n",
            "Train Epoch: 2 [21120/60000]\tLoss: 0.187587\n",
            "Train Epoch: 2 [21760/60000]\tLoss: 0.110572\n",
            "Train Epoch: 2 [22400/60000]\tLoss: 0.317675\n",
            "Train Epoch: 2 [23040/60000]\tLoss: 0.275480\n",
            "Train Epoch: 2 [23680/60000]\tLoss: 0.247962\n",
            "Train Epoch: 2 [24320/60000]\tLoss: 0.274873\n",
            "Train Epoch: 2 [24960/60000]\tLoss: 0.125446\n",
            "Train Epoch: 2 [25600/60000]\tLoss: 0.245305\n",
            "Train Epoch: 2 [26240/60000]\tLoss: 0.176058\n",
            "Train Epoch: 2 [26880/60000]\tLoss: 0.256634\n",
            "Train Epoch: 2 [27520/60000]\tLoss: 0.136596\n",
            "Train Epoch: 2 [28160/60000]\tLoss: 0.138078\n",
            "Train Epoch: 2 [28800/60000]\tLoss: 0.268491\n",
            "Train Epoch: 2 [29440/60000]\tLoss: 0.138261\n",
            "Train Epoch: 2 [30080/60000]\tLoss: 0.303174\n",
            "Train Epoch: 2 [30720/60000]\tLoss: 0.206869\n",
            "Train Epoch: 2 [31360/60000]\tLoss: 0.235346\n",
            "Train Epoch: 2 [32000/60000]\tLoss: 0.306487\n",
            "Train Epoch: 2 [32640/60000]\tLoss: 0.208043\n",
            "Train Epoch: 2 [33280/60000]\tLoss: 0.173814\n",
            "Train Epoch: 2 [33920/60000]\tLoss: 0.208610\n",
            "Train Epoch: 2 [34560/60000]\tLoss: 0.306983\n",
            "Train Epoch: 2 [35200/60000]\tLoss: 0.112786\n",
            "Train Epoch: 2 [35840/60000]\tLoss: 0.113872\n",
            "Train Epoch: 2 [36480/60000]\tLoss: 0.106208\n",
            "Train Epoch: 2 [37120/60000]\tLoss: 0.191261\n",
            "Train Epoch: 2 [37760/60000]\tLoss: 0.155613\n",
            "Train Epoch: 2 [38400/60000]\tLoss: 0.081098\n",
            "Train Epoch: 2 [39040/60000]\tLoss: 0.240748\n",
            "Train Epoch: 2 [39680/60000]\tLoss: 0.242346\n",
            "Train Epoch: 2 [40320/60000]\tLoss: 0.191448\n",
            "Train Epoch: 2 [40960/60000]\tLoss: 0.208849\n",
            "Train Epoch: 2 [41600/60000]\tLoss: 0.174493\n",
            "Train Epoch: 2 [42240/60000]\tLoss: 0.259845\n",
            "Train Epoch: 2 [42880/60000]\tLoss: 0.256345\n",
            "Train Epoch: 2 [43520/60000]\tLoss: 0.095922\n",
            "Train Epoch: 2 [44160/60000]\tLoss: 0.171177\n",
            "Train Epoch: 2 [44800/60000]\tLoss: 0.147491\n",
            "Train Epoch: 2 [45440/60000]\tLoss: 0.213663\n",
            "Train Epoch: 2 [46080/60000]\tLoss: 0.309333\n",
            "Train Epoch: 2 [46720/60000]\tLoss: 0.115808\n",
            "Train Epoch: 2 [47360/60000]\tLoss: 0.147952\n",
            "Train Epoch: 2 [48000/60000]\tLoss: 0.121364\n",
            "Train Epoch: 2 [48640/60000]\tLoss: 0.292261\n",
            "Train Epoch: 2 [49280/60000]\tLoss: 0.180077\n",
            "Train Epoch: 2 [49920/60000]\tLoss: 0.231635\n",
            "Train Epoch: 2 [50560/60000]\tLoss: 0.155518\n",
            "Train Epoch: 2 [51200/60000]\tLoss: 0.221679\n",
            "Train Epoch: 2 [51840/60000]\tLoss: 0.070934\n",
            "Train Epoch: 2 [52480/60000]\tLoss: 0.194883\n",
            "Train Epoch: 2 [53120/60000]\tLoss: 0.158488\n",
            "Train Epoch: 2 [53760/60000]\tLoss: 0.207494\n",
            "Train Epoch: 2 [54400/60000]\tLoss: 0.207499\n",
            "Train Epoch: 2 [55040/60000]\tLoss: 0.496018\n",
            "Train Epoch: 2 [55680/60000]\tLoss: 0.124448\n",
            "Train Epoch: 2 [56320/60000]\tLoss: 0.209488\n",
            "Train Epoch: 2 [56960/60000]\tLoss: 0.086907\n",
            "Train Epoch: 2 [57600/60000]\tLoss: 0.250644\n",
            "Train Epoch: 2 [58240/60000]\tLoss: 0.273063\n",
            "Train Epoch: 2 [58880/60000]\tLoss: 0.187720\n",
            "Train Epoch: 2 [59520/60000]\tLoss: 0.206692\n",
            "\n",
            "Test set: Avg. loss: 0.0867, Accuracy: 9712/10000 (97%)\n",
            "\n",
            "Train Epoch: 3 [0/60000]\tLoss: 0.324824\n",
            "Train Epoch: 3 [640/60000]\tLoss: 0.201914\n",
            "Train Epoch: 3 [1280/60000]\tLoss: 0.191235\n",
            "Train Epoch: 3 [1920/60000]\tLoss: 0.126171\n",
            "Train Epoch: 3 [2560/60000]\tLoss: 0.167718\n",
            "Train Epoch: 3 [3200/60000]\tLoss: 0.210680\n",
            "Train Epoch: 3 [3840/60000]\tLoss: 0.237772\n",
            "Train Epoch: 3 [4480/60000]\tLoss: 0.128588\n",
            "Train Epoch: 3 [5120/60000]\tLoss: 0.231263\n",
            "Train Epoch: 3 [5760/60000]\tLoss: 0.221414\n",
            "Train Epoch: 3 [6400/60000]\tLoss: 0.309526\n",
            "Train Epoch: 3 [7040/60000]\tLoss: 0.200788\n",
            "Train Epoch: 3 [7680/60000]\tLoss: 0.194434\n",
            "Train Epoch: 3 [8320/60000]\tLoss: 0.110868\n",
            "Train Epoch: 3 [8960/60000]\tLoss: 0.136143\n",
            "Train Epoch: 3 [9600/60000]\tLoss: 0.141181\n",
            "Train Epoch: 3 [10240/60000]\tLoss: 0.075612\n",
            "Train Epoch: 3 [10880/60000]\tLoss: 0.120271\n",
            "Train Epoch: 3 [11520/60000]\tLoss: 0.221168\n",
            "Train Epoch: 3 [12160/60000]\tLoss: 0.059201\n",
            "Train Epoch: 3 [12800/60000]\tLoss: 0.100824\n",
            "Train Epoch: 3 [13440/60000]\tLoss: 0.111703\n",
            "Train Epoch: 3 [14080/60000]\tLoss: 0.199597\n",
            "Train Epoch: 3 [14720/60000]\tLoss: 0.151995\n",
            "Train Epoch: 3 [15360/60000]\tLoss: 0.159995\n",
            "Train Epoch: 3 [16000/60000]\tLoss: 0.087449\n",
            "Train Epoch: 3 [16640/60000]\tLoss: 0.017753\n",
            "Train Epoch: 3 [17280/60000]\tLoss: 0.103291\n",
            "Train Epoch: 3 [17920/60000]\tLoss: 0.128521\n",
            "Train Epoch: 3 [18560/60000]\tLoss: 0.118744\n",
            "Train Epoch: 3 [19200/60000]\tLoss: 0.162702\n",
            "Train Epoch: 3 [19840/60000]\tLoss: 0.069849\n",
            "Train Epoch: 3 [20480/60000]\tLoss: 0.164487\n",
            "Train Epoch: 3 [21120/60000]\tLoss: 0.227790\n",
            "Train Epoch: 3 [21760/60000]\tLoss: 0.145968\n",
            "Train Epoch: 3 [22400/60000]\tLoss: 0.178070\n",
            "Train Epoch: 3 [23040/60000]\tLoss: 0.143533\n",
            "Train Epoch: 3 [23680/60000]\tLoss: 0.127787\n",
            "Train Epoch: 3 [24320/60000]\tLoss: 0.047882\n",
            "Train Epoch: 3 [24960/60000]\tLoss: 0.159608\n",
            "Train Epoch: 3 [25600/60000]\tLoss: 0.068278\n",
            "Train Epoch: 3 [26240/60000]\tLoss: 0.139206\n",
            "Train Epoch: 3 [26880/60000]\tLoss: 0.183237\n",
            "Train Epoch: 3 [27520/60000]\tLoss: 0.086221\n",
            "Train Epoch: 3 [28160/60000]\tLoss: 0.102358\n",
            "Train Epoch: 3 [28800/60000]\tLoss: 0.465032\n",
            "Train Epoch: 3 [29440/60000]\tLoss: 0.142300\n",
            "Train Epoch: 3 [30080/60000]\tLoss: 0.095192\n",
            "Train Epoch: 3 [30720/60000]\tLoss: 0.113747\n",
            "Train Epoch: 3 [31360/60000]\tLoss: 0.347353\n",
            "Train Epoch: 3 [32000/60000]\tLoss: 0.246751\n",
            "Train Epoch: 3 [32640/60000]\tLoss: 0.090549\n",
            "Train Epoch: 3 [33280/60000]\tLoss: 0.064073\n",
            "Train Epoch: 3 [33920/60000]\tLoss: 0.202361\n",
            "Train Epoch: 3 [34560/60000]\tLoss: 0.178515\n",
            "Train Epoch: 3 [35200/60000]\tLoss: 0.235161\n",
            "Train Epoch: 3 [35840/60000]\tLoss: 0.389595\n",
            "Train Epoch: 3 [36480/60000]\tLoss: 0.115539\n",
            "Train Epoch: 3 [37120/60000]\tLoss: 0.629897\n",
            "Train Epoch: 3 [37760/60000]\tLoss: 0.109501\n",
            "Train Epoch: 3 [38400/60000]\tLoss: 0.064387\n",
            "Train Epoch: 3 [39040/60000]\tLoss: 0.201588\n",
            "Train Epoch: 3 [39680/60000]\tLoss: 0.211454\n",
            "Train Epoch: 3 [40320/60000]\tLoss: 0.099154\n",
            "Train Epoch: 3 [40960/60000]\tLoss: 0.071918\n",
            "Train Epoch: 3 [41600/60000]\tLoss: 0.041102\n",
            "Train Epoch: 3 [42240/60000]\tLoss: 0.142452\n",
            "Train Epoch: 3 [42880/60000]\tLoss: 0.240206\n",
            "Train Epoch: 3 [43520/60000]\tLoss: 0.095652\n",
            "Train Epoch: 3 [44160/60000]\tLoss: 0.177671\n",
            "Train Epoch: 3 [44800/60000]\tLoss: 0.203831\n",
            "Train Epoch: 3 [45440/60000]\tLoss: 0.275968\n",
            "Train Epoch: 3 [46080/60000]\tLoss: 0.098413\n",
            "Train Epoch: 3 [46720/60000]\tLoss: 0.131492\n",
            "Train Epoch: 3 [47360/60000]\tLoss: 0.171356\n",
            "Train Epoch: 3 [48000/60000]\tLoss: 0.214433\n",
            "Train Epoch: 3 [48640/60000]\tLoss: 0.229408\n",
            "Train Epoch: 3 [49280/60000]\tLoss: 0.142677\n",
            "Train Epoch: 3 [49920/60000]\tLoss: 0.282411\n",
            "Train Epoch: 3 [50560/60000]\tLoss: 0.238959\n",
            "Train Epoch: 3 [51200/60000]\tLoss: 0.179942\n",
            "Train Epoch: 3 [51840/60000]\tLoss: 0.211585\n",
            "Train Epoch: 3 [52480/60000]\tLoss: 0.361709\n",
            "Train Epoch: 3 [53120/60000]\tLoss: 0.220459\n",
            "Train Epoch: 3 [53760/60000]\tLoss: 0.106922\n",
            "Train Epoch: 3 [54400/60000]\tLoss: 0.176210\n",
            "Train Epoch: 3 [55040/60000]\tLoss: 0.105528\n",
            "Train Epoch: 3 [55680/60000]\tLoss: 0.106075\n",
            "Train Epoch: 3 [56320/60000]\tLoss: 0.164897\n",
            "Train Epoch: 3 [56960/60000]\tLoss: 0.099578\n",
            "Train Epoch: 3 [57600/60000]\tLoss: 0.344342\n",
            "Train Epoch: 3 [58240/60000]\tLoss: 0.347138\n",
            "Train Epoch: 3 [58880/60000]\tLoss: 0.151874\n",
            "Train Epoch: 3 [59520/60000]\tLoss: 0.069127\n",
            "\n",
            "Test set: Avg. loss: 0.0681, Accuracy: 9772/10000 (98%)\n",
            "\n"
          ]
        }
      ]
    },
    {
      "cell_type": "code",
      "source": [
        "# Run network on data we got before and show predictions\n",
        "output = model(example_data)\n",
        "\n",
        "fig = plt.figure()\n",
        "for i in range(10):\n",
        "  plt.subplot(5,5,i+1)\n",
        "  plt.tight_layout()\n",
        "  plt.imshow(example_data[i][0], cmap='gray', interpolation='none')\n",
        "  plt.title(\"Prediction: {}\".format(\n",
        "    output.data.max(1, keepdim=True)[1][i].item()))\n",
        "  plt.xticks([])\n",
        "  plt.yticks([])\n",
        "plt.show()"
      ],
      "metadata": {
        "id": "o7fRUAy9Se1B",
        "outputId": "b493c5cf-c25f-46d4-ca6f-1c484cdb2461",
        "colab": {
          "base_uri": "https://localhost:8080/",
          "height": 207
        }
      },
      "execution_count": 16,
      "outputs": [
        {
          "output_type": "display_data",
          "data": {
            "text/plain": [
              "<Figure size 640x480 with 10 Axes>"
            ],
            "image/png": "[encoded data removed]"
          },
          "metadata": {}
        }
      ]
    }
  ]
}