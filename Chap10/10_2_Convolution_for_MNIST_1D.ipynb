{
  "nbformat": 4,
  "nbformat_minor": 0,
  "metadata": {
    "colab": {
      "provenance": [],
      "include_colab_link": true
    },
    "kernelspec": {
      "name": "python3",
      "display_name": "Python 3"
    },
    "language_info": {
      "name": "python"
    }
  },
  "cells": [
    {
      "cell_type": "markdown",
      "metadata": {
        "id": "view-in-github",
        "colab_type": "text"
      },
      "source": [
        "<a href=\"https://colab.research.google.com/github/JPedroSilveira/understanding_deep_learning/blob/main/Chap10/10_2_Convolution_for_MNIST_1D.ipynb\" target=\"_parent\"><img src=\"https://colab.research.google.com/assets/colab-badge.svg\" alt=\"Open In Colab\"/></a>"
      ]
    },
    {
      "cell_type": "markdown",
      "source": [
        "# **Notebook 10.2: Convolution for MNIST-1D**\n",
        "\n",
        "This notebook investigates a 1D convolutional network for MNIST-1D as in figure 10.7 and 10.8a.\n",
        "\n",
        "Work through the cells below, running each cell in turn. In various places you will see the words \"TO DO\". Follow the instructions at these places and make predictions about what is going to happen or write code to complete the functions.\n",
        "\n",
        "Contact me at udlbookmail@gmail.com if you find any mistakes or have any suggestions.\n",
        "\n"
      ],
      "metadata": {
        "id": "t9vk9Elugvmi"
      }
    },
    {
      "cell_type": "code",
      "source": [
        "# Run this if you're in a Colab to make a local copy of the MNIST 1D repository\n",
        "!git clone https://github.com/greydanus/mnist1d"
      ],
      "metadata": {
        "id": "D5yLObtZCi9J",
        "outputId": "8ff13529-7aa7-4b6e-9f3b-8e139c699902",
        "colab": {
          "base_uri": "https://localhost:8080/"
        }
      },
      "execution_count": 1,
      "outputs": [
        {
          "output_type": "stream",
          "name": "stdout",
          "text": [
            "Cloning into 'mnist1d'...\n",
            "remote: Enumerating objects: 204, done.\u001b[K\n",
            "remote: Counting objects: 100% (76/76), done.\u001b[K\n",
            "remote: Compressing objects: 100% (35/35), done.\u001b[K\n",
            "remote: Total 204 (delta 47), reused 60 (delta 41), pack-reused 128\u001b[K\n",
            "Receiving objects: 100% (204/204), 8.42 MiB | 18.83 MiB/s, done.\n",
            "Resolving deltas: 100% (73/73), done.\n"
          ]
        }
      ]
    },
    {
      "cell_type": "code",
      "source": [
        "import numpy as np\n",
        "import os\n",
        "import torch, torch.nn as nn\n",
        "from torch.utils.data import TensorDataset, DataLoader\n",
        "from torch.optim.lr_scheduler import StepLR\n",
        "import matplotlib.pyplot as plt\n",
        "import mnist1d\n",
        "import random"
      ],
      "metadata": {
        "id": "YrXWAH7sUWvU"
      },
      "execution_count": 2,
      "outputs": []
    },
    {
      "cell_type": "code",
      "source": [
        "args = mnist1d.data.get_dataset_args()\n",
        "data = mnist1d.data.get_dataset(args, path='./mnist1d_data.pkl', download=False, regenerate=False)\n",
        "\n",
        "# The training and test input and outputs are in\n",
        "# data['x'], data['y'], data['x_test'], and data['y_test']\n",
        "print(\"Examples in training set: {}\".format(len(data['y'])))\n",
        "print(\"Examples in test set: {}\".format(len(data['y_test'])))\n",
        "print(\"Length of each example: {}\".format(data['x'].shape[-1]))"
      ],
      "metadata": {
        "id": "twI72ZCrCt5z",
        "outputId": "1f605537-b03d-48f8-acb1-6a9bf7dbd133",
        "colab": {
          "base_uri": "https://localhost:8080/"
        }
      },
      "execution_count": 3,
      "outputs": [
        {
          "output_type": "stream",
          "name": "stdout",
          "text": [
            "Did or could not load data from ./mnist1d_data.pkl. Rebuilding dataset...\n",
            "Examples in training set: 4000\n",
            "Examples in test set: 1000\n",
            "Length of each example: 40\n"
          ]
        }
      ]
    },
    {
      "cell_type": "code",
      "source": [
        "# Load in the data\n",
        "train_data_x = data['x'].transpose()\n",
        "train_data_y = data['y']\n",
        "val_data_x = data['x_test'].transpose()\n",
        "val_data_y = data['y_test']\n",
        "# Print out sizes\n",
        "print(\"Train data: %d examples (columns), each of which has %d dimensions (rows)\"%((train_data_x.shape[1],train_data_x.shape[0])))\n",
        "print(\"Validation data: %d examples (columns), each of which has %d dimensions (rows)\"%((val_data_x.shape[1],val_data_x.shape[0])))"
      ],
      "metadata": {
        "id": "8bKADvLHbiV5",
        "outputId": "e428f788-0c67-476d-a8f2-18c636f60392",
        "colab": {
          "base_uri": "https://localhost:8080/"
        }
      },
      "execution_count": 4,
      "outputs": [
        {
          "output_type": "stream",
          "name": "stdout",
          "text": [
            "Train data: 4000 examples (columns), each of which has 40 dimensions (rows)\n",
            "Validation data: 1000 examples (columns), each of which has 40 dimensions (rows)\n"
          ]
        }
      ]
    },
    {
      "cell_type": "markdown",
      "source": [
        "Define the network"
      ],
      "metadata": {
        "id": "_sFvRDGrl4qe"
      }
    },
    {
      "cell_type": "code",
      "source": [
        "# There are 40 input dimensions and 10 output dimensions for this data\n",
        "# The inputs correspond to the 40 offsets in the MNIST1D template.\n",
        "D_i = 40\n",
        "# The outputs correspond to the 10 digits\n",
        "D_o = 10\n",
        "\n",
        "\n",
        "# TODO Create a model with the following layers\n",
        "# 1. Convolutional layer, (input=length 40 and 1 channel, kernel size 3, stride 2, padding=\"valid\", 15 output channels )\n",
        "# 2. ReLU\n",
        "# 3. Convolutional layer, (input=length 19 and 15 channels, kernel size 3, stride 2, padding=\"valid\", 15 output channels )\n",
        "# 4. ReLU\n",
        "# 5. Convolutional layer, (input=length 9 and 15 channels, kernel size 3, stride 2, padding=\"valid\", 15 output channels)\n",
        "# 6. ReLU\n",
        "# 7. Flatten (converts 4x15) to length 60\n",
        "# 8. Linear layer (input size = 60, output size = 10)\n",
        "# References:\n",
        "# https://pytorch.org/docs/1.13/generated/torch.nn.Conv1d.html?highlight=conv1d#torch.nn.Conv1d\n",
        "# https://pytorch.org/docs/stable/generated/torch.nn.Flatten.html\n",
        "# https://pytorch.org/docs/1.13/generated/torch.nn.Linear.html?highlight=linear#torch.nn.Linear\n",
        "\n",
        "# NOTE THAT THE CONVOLUTIONAL LAYERS NEED TO TAKE THE NUMBER OF INPUT CHANNELS AS A PARAMETER\n",
        "# AND NOT THE INPUT SIZE.\n",
        "\n",
        "# Replace the following function:\n",
        "model = nn.Sequential(\n",
        "    nn.Conv1d(1, 15, kernel_size=3, stride=2, padding=\"valid\"),\n",
        "    nn.ReLU(),\n",
        "    nn.Conv1d(15, 15, kernel_size=3, stride=2, padding=\"valid\"),\n",
        "    nn.ReLU(),\n",
        "    nn.Conv1d(15, 15, kernel_size=3, stride=2, padding=\"valid\"),\n",
        "    nn.ReLU(),\n",
        "    nn.Flatten(),\n",
        "    nn.Linear(60, D_o))\n",
        "\n",
        "\n",
        "\n"
      ],
      "metadata": {
        "id": "FslroPJJffrh"
      },
      "execution_count": 6,
      "outputs": []
    },
    {
      "cell_type": "code",
      "source": [
        "# He initialization of weights\n",
        "def weights_init(layer_in):\n",
        "  if isinstance(layer_in, nn.Linear):\n",
        "    nn.init.kaiming_uniform_(layer_in.weight)\n",
        "    layer_in.bias.data.fill_(0.0)"
      ],
      "metadata": {
        "id": "YgLaex1pfhqz"
      },
      "execution_count": 7,
      "outputs": []
    },
    {
      "cell_type": "code",
      "source": [
        "# choose cross entropy loss function (equation 5.24 in the loss notes)\n",
        "loss_function = nn.CrossEntropyLoss()\n",
        "# construct SGD optimizer and initialize learning rate and momentum\n",
        "optimizer = torch.optim.SGD(model.parameters(), lr = 0.05, momentum=0.9)\n",
        "# object that decreases learning rate by half every 20 epochs\n",
        "scheduler = StepLR(optimizer, step_size=20, gamma=0.5)\n",
        "# create 100 dummy data points and store in data loader class\n",
        "x_train = torch.tensor(train_data_x.transpose().astype('float32'))\n",
        "y_train = torch.tensor(train_data_y.astype('long')).long()\n",
        "x_val= torch.tensor(val_data_x.transpose().astype('float32'))\n",
        "y_val = torch.tensor(val_data_y.astype('long')).long()\n",
        "\n",
        "# load the data into a class that creates the batches\n",
        "data_loader = DataLoader(TensorDataset(x_train,y_train), batch_size=100, shuffle=True, worker_init_fn=np.random.seed(1))\n",
        "\n",
        "# Initialize model weights\n",
        "model.apply(weights_init)\n",
        "\n",
        "# loop over the dataset n_epoch times\n",
        "n_epoch = 100\n",
        "# store the loss and the % correct at each epoch\n",
        "losses_train = np.zeros((n_epoch))\n",
        "errors_train = np.zeros((n_epoch))\n",
        "losses_val = np.zeros((n_epoch))\n",
        "errors_val = np.zeros((n_epoch))\n",
        "\n",
        "for epoch in range(n_epoch):\n",
        "  # loop over batches\n",
        "  for i, data in enumerate(data_loader):\n",
        "    # retrieve inputs and labels for this batch\n",
        "    x_batch, y_batch = data\n",
        "    # zero the parameter gradients\n",
        "    optimizer.zero_grad()\n",
        "    # forward pass -- calculate model output\n",
        "    pred = model(x_batch[:,None,:])\n",
        "    # compute the loss\n",
        "    loss = loss_function(pred, y_batch)\n",
        "    # backward pass\n",
        "    loss.backward()\n",
        "    # SGD update\n",
        "    optimizer.step()\n",
        "\n",
        "  # Run whole dataset to get statistics -- normally wouldn't do this\n",
        "  pred_train = model(x_train[:,None,:])\n",
        "  pred_val = model(x_val[:,None,:])\n",
        "  _, predicted_train_class = torch.max(pred_train.data, 1)\n",
        "  _, predicted_val_class = torch.max(pred_val.data, 1)\n",
        "  errors_train[epoch] = 100 - 100 * (predicted_train_class == y_train).float().sum() / len(y_train)\n",
        "  errors_val[epoch]= 100 - 100 * (predicted_val_class == y_val).float().sum() / len(y_val)\n",
        "  losses_train[epoch] = loss_function(pred_train, y_train).item()\n",
        "  losses_val[epoch]= loss_function(pred_val, y_val).item()\n",
        "  print(f'Epoch {epoch:5d}, train loss {losses_train[epoch]:.6f}, train error {errors_train[epoch]:3.2f},  val loss {losses_val[epoch]:.6f}, percent error {errors_val[epoch]:3.2f}')\n",
        "\n",
        "  # tell scheduler to consider updating learning rate\n",
        "  scheduler.step()\n",
        "\n",
        "# Plot the results\n",
        "fig, ax = plt.subplots()\n",
        "ax.plot(errors_train,'r-',label='train')\n",
        "ax.plot(errors_val,'b-',label='validation')\n",
        "ax.set_ylim(0,100); ax.set_xlim(0,n_epoch)\n",
        "ax.set_xlabel('Epoch'); ax.set_ylabel('Error')\n",
        "ax.set_title('Part I: Validation Result %3.2f'%(errors_val[-1]))\n",
        "ax.legend()\n",
        "plt.show()"
      ],
      "metadata": {
        "id": "NYw8I_3mmX5c",
        "outputId": "6bb78e19-393e-44d8-e782-3d6539128a19",
        "colab": {
          "base_uri": "https://localhost:8080/",
          "height": 1000
        }
      },
      "execution_count": 8,
      "outputs": [
        {
          "output_type": "stream",
          "name": "stdout",
          "text": [
            "Epoch     0, train loss 2.063898, train error 78.57,  val loss 2.052799, percent error 78.60\n",
            "Epoch     1, train loss 1.613546, train error 65.43,  val loss 1.631288, percent error 66.60\n",
            "Epoch     2, train loss 1.355689, train error 53.25,  val loss 1.364817, percent error 54.70\n",
            "Epoch     3, train loss 1.281053, train error 50.50,  val loss 1.314007, percent error 53.30\n",
            "Epoch     4, train loss 1.204157, train error 48.70,  val loss 1.221887, percent error 51.20\n",
            "Epoch     5, train loss 1.096506, train error 44.45,  val loss 1.131626, percent error 47.50\n",
            "Epoch     6, train loss 1.107284, train error 44.62,  val loss 1.135457, percent error 48.10\n",
            "Epoch     7, train loss 0.926007, train error 35.07,  val loss 0.962454, percent error 37.10\n",
            "Epoch     8, train loss 0.862039, train error 33.43,  val loss 0.911666, percent error 36.90\n",
            "Epoch     9, train loss 0.832236, train error 31.72,  val loss 0.904046, percent error 37.50\n",
            "Epoch    10, train loss 0.652096, train error 25.35,  val loss 0.734066, percent error 28.70\n",
            "Epoch    11, train loss 0.681876, train error 26.62,  val loss 0.792491, percent error 30.80\n",
            "Epoch    12, train loss 0.516652, train error 19.78,  val loss 0.614688, percent error 23.70\n",
            "Epoch    13, train loss 0.510650, train error 19.88,  val loss 0.619097, percent error 23.40\n",
            "Epoch    14, train loss 0.452936, train error 17.62,  val loss 0.559567, percent error 21.20\n",
            "Epoch    15, train loss 0.457267, train error 17.75,  val loss 0.583428, percent error 22.40\n",
            "Epoch    16, train loss 0.429197, train error 16.20,  val loss 0.531558, percent error 20.80\n",
            "Epoch    17, train loss 0.340425, train error 12.75,  val loss 0.460177, percent error 16.70\n",
            "Epoch    18, train loss 0.383713, train error 14.40,  val loss 0.489542, percent error 18.60\n",
            "Epoch    19, train loss 0.352026, train error 13.68,  val loss 0.513144, percent error 18.10\n",
            "Epoch    20, train loss 0.258660, train error 9.03,  val loss 0.396285, percent error 14.70\n",
            "Epoch    21, train loss 0.244165, train error 8.97,  val loss 0.404460, percent error 15.90\n",
            "Epoch    22, train loss 0.222825, train error 8.22,  val loss 0.386250, percent error 13.10\n",
            "Epoch    23, train loss 0.204968, train error 6.82,  val loss 0.368583, percent error 11.70\n",
            "Epoch    24, train loss 0.201966, train error 7.10,  val loss 0.385345, percent error 12.70\n",
            "Epoch    25, train loss 0.238786, train error 8.85,  val loss 0.410836, percent error 14.10\n",
            "Epoch    26, train loss 0.230547, train error 8.50,  val loss 0.400837, percent error 14.30\n",
            "Epoch    27, train loss 0.213153, train error 7.65,  val loss 0.442408, percent error 14.30\n",
            "Epoch    28, train loss 0.171020, train error 5.47,  val loss 0.335848, percent error 11.50\n",
            "Epoch    29, train loss 0.188960, train error 6.57,  val loss 0.392220, percent error 12.40\n",
            "Epoch    30, train loss 0.153402, train error 4.95,  val loss 0.362899, percent error 10.70\n",
            "Epoch    31, train loss 0.209611, train error 7.12,  val loss 0.436661, percent error 13.30\n",
            "Epoch    32, train loss 0.227520, train error 8.88,  val loss 0.458936, percent error 14.00\n",
            "Epoch    33, train loss 0.178257, train error 6.65,  val loss 0.421185, percent error 12.20\n",
            "Epoch    34, train loss 0.131399, train error 4.18,  val loss 0.363486, percent error 11.70\n",
            "Epoch    35, train loss 0.152073, train error 5.12,  val loss 0.359871, percent error 12.00\n",
            "Epoch    36, train loss 0.126568, train error 4.15,  val loss 0.372714, percent error 9.70\n",
            "Epoch    37, train loss 0.119484, train error 4.03,  val loss 0.338566, percent error 10.80\n",
            "Epoch    38, train loss 0.118936, train error 4.25,  val loss 0.335646, percent error 9.70\n",
            "Epoch    39, train loss 0.119599, train error 3.88,  val loss 0.375758, percent error 11.60\n",
            "Epoch    40, train loss 0.089558, train error 2.50,  val loss 0.349677, percent error 11.00\n",
            "Epoch    41, train loss 0.087121, train error 2.50,  val loss 0.348294, percent error 11.00\n",
            "Epoch    42, train loss 0.092299, train error 2.70,  val loss 0.355966, percent error 10.50\n",
            "Epoch    43, train loss 0.080756, train error 2.45,  val loss 0.357166, percent error 10.10\n",
            "Epoch    44, train loss 0.091688, train error 2.95,  val loss 0.365905, percent error 11.40\n",
            "Epoch    45, train loss 0.085329, train error 2.38,  val loss 0.375448, percent error 10.90\n",
            "Epoch    46, train loss 0.090325, train error 2.93,  val loss 0.389951, percent error 10.80\n",
            "Epoch    47, train loss 0.083452, train error 2.38,  val loss 0.360356, percent error 10.60\n",
            "Epoch    48, train loss 0.080630, train error 2.28,  val loss 0.368247, percent error 10.90\n",
            "Epoch    49, train loss 0.077917, train error 1.97,  val loss 0.353616, percent error 9.90\n",
            "Epoch    50, train loss 0.075571, train error 2.07,  val loss 0.374572, percent error 11.70\n",
            "Epoch    51, train loss 0.080146, train error 2.25,  val loss 0.398299, percent error 11.10\n",
            "Epoch    52, train loss 0.081985, train error 2.53,  val loss 0.412231, percent error 11.60\n",
            "Epoch    53, train loss 0.069279, train error 1.85,  val loss 0.372898, percent error 10.60\n",
            "Epoch    54, train loss 0.067885, train error 1.72,  val loss 0.374685, percent error 11.10\n",
            "Epoch    55, train loss 0.103027, train error 3.60,  val loss 0.395546, percent error 11.80\n",
            "Epoch    56, train loss 0.067253, train error 1.90,  val loss 0.398435, percent error 10.30\n",
            "Epoch    57, train loss 0.069258, train error 1.88,  val loss 0.422158, percent error 11.60\n",
            "Epoch    58, train loss 0.061570, train error 1.62,  val loss 0.403481, percent error 10.80\n",
            "Epoch    59, train loss 0.059357, train error 1.60,  val loss 0.420996, percent error 11.20\n",
            "Epoch    60, train loss 0.054393, train error 1.12,  val loss 0.389226, percent error 10.40\n",
            "Epoch    61, train loss 0.052101, train error 1.03,  val loss 0.404813, percent error 11.00\n",
            "Epoch    62, train loss 0.051893, train error 1.10,  val loss 0.400572, percent error 10.90\n",
            "Epoch    63, train loss 0.052515, train error 1.28,  val loss 0.398204, percent error 11.20\n",
            "Epoch    64, train loss 0.052106, train error 1.07,  val loss 0.396371, percent error 11.00\n",
            "Epoch    65, train loss 0.054159, train error 1.35,  val loss 0.417917, percent error 10.60\n",
            "Epoch    66, train loss 0.049421, train error 0.97,  val loss 0.416517, percent error 11.70\n",
            "Epoch    67, train loss 0.049557, train error 0.97,  val loss 0.418732, percent error 11.50\n",
            "Epoch    68, train loss 0.048201, train error 0.88,  val loss 0.411550, percent error 11.00\n",
            "Epoch    69, train loss 0.049702, train error 0.97,  val loss 0.430309, percent error 11.90\n",
            "Epoch    70, train loss 0.048679, train error 0.90,  val loss 0.408880, percent error 11.20\n",
            "Epoch    71, train loss 0.046709, train error 0.85,  val loss 0.419218, percent error 11.30\n",
            "Epoch    72, train loss 0.049241, train error 1.12,  val loss 0.434470, percent error 11.40\n",
            "Epoch    73, train loss 0.045941, train error 0.80,  val loss 0.411508, percent error 11.40\n",
            "Epoch    74, train loss 0.046709, train error 0.95,  val loss 0.434143, percent error 10.90\n",
            "Epoch    75, train loss 0.044094, train error 0.72,  val loss 0.425670, percent error 11.10\n",
            "Epoch    76, train loss 0.044205, train error 0.78,  val loss 0.421007, percent error 11.50\n",
            "Epoch    77, train loss 0.044555, train error 0.97,  val loss 0.417601, percent error 11.00\n",
            "Epoch    78, train loss 0.042645, train error 0.78,  val loss 0.426542, percent error 11.30\n",
            "Epoch    79, train loss 0.043698, train error 0.78,  val loss 0.430215, percent error 11.30\n",
            "Epoch    80, train loss 0.041900, train error 0.65,  val loss 0.432872, percent error 11.70\n",
            "Epoch    81, train loss 0.041149, train error 0.68,  val loss 0.425788, percent error 11.20\n",
            "Epoch    82, train loss 0.040889, train error 0.60,  val loss 0.431378, percent error 11.70\n",
            "Epoch    83, train loss 0.040497, train error 0.60,  val loss 0.432146, percent error 11.40\n",
            "Epoch    84, train loss 0.040752, train error 0.60,  val loss 0.430231, percent error 11.40\n",
            "Epoch    85, train loss 0.040127, train error 0.65,  val loss 0.433584, percent error 11.40\n",
            "Epoch    86, train loss 0.039849, train error 0.65,  val loss 0.439221, percent error 11.30\n",
            "Epoch    87, train loss 0.039858, train error 0.53,  val loss 0.444386, percent error 11.60\n",
            "Epoch    88, train loss 0.039396, train error 0.55,  val loss 0.442791, percent error 11.50\n",
            "Epoch    89, train loss 0.039610, train error 0.50,  val loss 0.446283, percent error 11.90\n",
            "Epoch    90, train loss 0.039363, train error 0.53,  val loss 0.450381, percent error 11.60\n",
            "Epoch    91, train loss 0.039819, train error 0.55,  val loss 0.453943, percent error 11.60\n",
            "Epoch    92, train loss 0.038650, train error 0.68,  val loss 0.441607, percent error 11.30\n",
            "Epoch    93, train loss 0.039368, train error 0.57,  val loss 0.455912, percent error 11.40\n",
            "Epoch    94, train loss 0.038398, train error 0.62,  val loss 0.446783, percent error 11.40\n",
            "Epoch    95, train loss 0.038034, train error 0.55,  val loss 0.444777, percent error 11.90\n",
            "Epoch    96, train loss 0.037635, train error 0.60,  val loss 0.447817, percent error 11.50\n",
            "Epoch    97, train loss 0.037545, train error 0.65,  val loss 0.445052, percent error 11.40\n",
            "Epoch    98, train loss 0.037576, train error 0.55,  val loss 0.453197, percent error 11.80\n",
            "Epoch    99, train loss 0.039449, train error 0.65,  val loss 0.462417, percent error 11.70\n"
          ]
        },
        {
          "output_type": "display_data",
          "data": {
            "text/plain": [
              "<Figure size 640x480 with 1 Axes>"
            ],
            "image/png": "[encoded data removed]"
          },
          "metadata": {}
        }
      ]
    }
  ]
}