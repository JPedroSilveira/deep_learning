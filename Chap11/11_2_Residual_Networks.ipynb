{
  "nbformat": 4,
  "nbformat_minor": 0,
  "metadata": {
    "colab": {
      "provenance": [],
      "include_colab_link": true
    },
    "kernelspec": {
      "name": "python3",
      "display_name": "Python 3"
    },
    "language_info": {
      "name": "python"
    }
  },
  "cells": [
    {
      "cell_type": "markdown",
      "metadata": {
        "id": "view-in-github",
        "colab_type": "text"
      },
      "source": [
        "<a href=\"https://colab.research.google.com/github/JPedroSilveira/understanding_deep_learning/blob/main/Chap11/11_2_Residual_Networks.ipynb\" target=\"_parent\"><img src=\"https://colab.research.google.com/assets/colab-badge.svg\" alt=\"Open In Colab\"/></a>"
      ]
    },
    {
      "cell_type": "markdown",
      "source": [
        "# **Notebook 11.2: Residual Networks**\n",
        "\n",
        "This notebook adapts the networks for MNIST1D to use residual connections.\n",
        "\n",
        "Work through the cells below, running each cell in turn. In various places you will see the words \"TO DO\". Follow the instructions at these places and make predictions about what is going to happen or write code to complete the functions.\n",
        "\n",
        "Contact me at udlbookmail@gmail.com if you find any mistakes or have any suggestions.\n",
        "\n"
      ],
      "metadata": {
        "id": "t9vk9Elugvmi"
      }
    },
    {
      "cell_type": "code",
      "source": [
        "# Run this if you're in a Colab to make a local copy of the MNIST 1D repository\n",
        "!git clone https://github.com/greydanus/mnist1d"
      ],
      "metadata": {
        "id": "D5yLObtZCi9J",
        "outputId": "557b4c52-5c66-4c18-d7a0-92b8497553bd",
        "colab": {
          "base_uri": "https://localhost:8080/"
        }
      },
      "execution_count": 1,
      "outputs": [
        {
          "output_type": "stream",
          "name": "stdout",
          "text": [
            "Cloning into 'mnist1d'...\n",
            "remote: Enumerating objects: 204, done.\u001b[K\n",
            "remote: Counting objects: 100% (76/76), done.\u001b[K\n",
            "remote: Compressing objects: 100% (35/35), done.\u001b[K\n",
            "remote: Total 204 (delta 47), reused 60 (delta 41), pack-reused 128\u001b[K\n",
            "Receiving objects: 100% (204/204), 8.42 MiB | 8.58 MiB/s, done.\n",
            "Resolving deltas: 100% (73/73), done.\n"
          ]
        }
      ]
    },
    {
      "cell_type": "code",
      "source": [
        "import numpy as np\n",
        "import os\n",
        "import torch, torch.nn as nn\n",
        "from torch.utils.data import TensorDataset, DataLoader\n",
        "from torch.optim.lr_scheduler import StepLR\n",
        "import matplotlib.pyplot as plt\n",
        "import mnist1d\n",
        "import random"
      ],
      "metadata": {
        "id": "YrXWAH7sUWvU"
      },
      "execution_count": 2,
      "outputs": []
    },
    {
      "cell_type": "code",
      "source": [
        "args = mnist1d.data.get_dataset_args()\n",
        "data = mnist1d.data.get_dataset(args, path='./mnist1d_data.pkl', download=False, regenerate=False)\n",
        "\n",
        "# The training and test input and outputs are in\n",
        "# data['x'], data['y'], data['x_test'], and data['y_test']\n",
        "print(\"Examples in training set: {}\".format(len(data['y'])))\n",
        "print(\"Examples in test set: {}\".format(len(data['y_test'])))\n",
        "print(\"Length of each example: {}\".format(data['x'].shape[-1]))"
      ],
      "metadata": {
        "id": "twI72ZCrCt5z",
        "outputId": "3ca8eb3e-d6ae-4e4c-bd9c-d554c8a9d171",
        "colab": {
          "base_uri": "https://localhost:8080/"
        }
      },
      "execution_count": 3,
      "outputs": [
        {
          "output_type": "stream",
          "name": "stdout",
          "text": [
            "Did or could not load data from ./mnist1d_data.pkl. Rebuilding dataset...\n",
            "Examples in training set: 4000\n",
            "Examples in test set: 1000\n",
            "Length of each example: 40\n"
          ]
        }
      ]
    },
    {
      "cell_type": "code",
      "source": [
        "# Load in the data\n",
        "train_data_x = data['x'].transpose()\n",
        "train_data_y = data['y']\n",
        "val_data_x = data['x_test'].transpose()\n",
        "val_data_y = data['y_test']\n",
        "# Print out sizes\n",
        "print(\"Train data: %d examples (columns), each of which has %d dimensions (rows)\"%((train_data_x.shape[1],train_data_x.shape[0])))\n",
        "print(\"Validation data: %d examples (columns), each of which has %d dimensions (rows)\"%((val_data_x.shape[1],val_data_x.shape[0])))"
      ],
      "metadata": {
        "id": "8bKADvLHbiV5",
        "outputId": "74f37702-bd48-49fa-c96c-033c8c8f4c83",
        "colab": {
          "base_uri": "https://localhost:8080/"
        }
      },
      "execution_count": 4,
      "outputs": [
        {
          "output_type": "stream",
          "name": "stdout",
          "text": [
            "Train data: 4000 examples (columns), each of which has 40 dimensions (rows)\n",
            "Validation data: 1000 examples (columns), each of which has 40 dimensions (rows)\n"
          ]
        }
      ]
    },
    {
      "cell_type": "markdown",
      "source": [
        "Define the network"
      ],
      "metadata": {
        "id": "_sFvRDGrl4qe"
      }
    },
    {
      "cell_type": "code",
      "source": [
        "# There are 40 input dimensions and 10 output dimensions for this data\n",
        "# The inputs correspond to the 40 offsets in the MNIST1D template.\n",
        "D_i = 40\n",
        "# The outputs correspond to the 10 digits\n",
        "D_o = 10\n",
        "\n",
        "\n",
        "# We will adapt this model to have residual connections around the linear layers\n",
        "# This is the same model we used in practical 8.1, but we can't use the sequential\n",
        "# class for residual networks (which aren't strictly sequential).  Hence, I've rewritten\n",
        "# it as a model that inherits from a base class\n",
        "\n",
        "class ResidualNetwork(torch.nn.Module):\n",
        "  def __init__(self, input_size, output_size, hidden_size=100):\n",
        "    super(ResidualNetwork, self).__init__()\n",
        "    self.linear1 = nn.Linear(input_size, hidden_size)\n",
        "    self.linear2 = nn.Linear(hidden_size, hidden_size)\n",
        "    self.linear3 = nn.Linear(hidden_size, hidden_size)\n",
        "    self.linear4 = nn.Linear(hidden_size, output_size)\n",
        "    print(\"Initialized MLPBase model with {} parameters\".format(self.count_params()))\n",
        "\n",
        "  def count_params(self):\n",
        "    return sum([p.view(-1).shape[0] for p in self.parameters()])\n",
        "\n",
        "# TODO -- Add residual connections to this model\n",
        "# The order of operations within each block should similar to figure 11.5b\n",
        "# ie., linear1 first, ReLU+linear2 in first residual block, ReLU+linear3 in second residual block), linear4 at end\n",
        "# Replace this function\n",
        "  def forward(self, x):\n",
        "    h1 = self.linear1(x).relu()\n",
        "    h2 = self.linear2(h1).relu() + h1\n",
        "    h3 = self.linear3(h2).relu() + h2\n",
        "\n",
        "    return self.linear4(h3)\n"
      ],
      "metadata": {
        "id": "FslroPJJffrh"
      },
      "execution_count": 14,
      "outputs": []
    },
    {
      "cell_type": "code",
      "source": [
        "# He initialization of weights\n",
        "def weights_init(layer_in):\n",
        "  if isinstance(layer_in, nn.Linear):\n",
        "    nn.init.kaiming_uniform_(layer_in.weight)\n",
        "    layer_in.bias.data.fill_(0.0)"
      ],
      "metadata": {
        "id": "YgLaex1pfhqz"
      },
      "execution_count": 7,
      "outputs": []
    },
    {
      "cell_type": "code",
      "source": [
        "#Define the model\n",
        "model = ResidualNetwork(40, 10)\n",
        "\n",
        "# choose cross entropy loss function (equation 5.24 in the loss notes)\n",
        "loss_function = nn.CrossEntropyLoss()\n",
        "# construct SGD optimizer and initialize learning rate and momentum\n",
        "optimizer = torch.optim.SGD(model.parameters(), lr = 0.05, momentum=0.9)\n",
        "# object that decreases learning rate by half every 20 epochs\n",
        "scheduler = StepLR(optimizer, step_size=20, gamma=0.5)\n",
        "# convert data to torch tensors\n",
        "x_train = torch.tensor(train_data_x.transpose().astype('float32'))\n",
        "y_train = torch.tensor(train_data_y.astype('long'))\n",
        "x_val= torch.tensor(val_data_x.transpose().astype('float32'))\n",
        "y_val = torch.tensor(val_data_y.astype('long'))\n",
        "\n",
        "# load the data into a class that creates the batches\n",
        "data_loader = DataLoader(TensorDataset(x_train,y_train), batch_size=100, shuffle=True, worker_init_fn=np.random.seed(1))\n",
        "\n",
        "# Initialize model weights\n",
        "model.apply(weights_init)\n",
        "\n",
        "# loop over the dataset n_epoch times\n",
        "n_epoch = 100\n",
        "# store the loss and the % correct at each epoch\n",
        "losses_train = np.zeros((n_epoch))\n",
        "errors_train = np.zeros((n_epoch))\n",
        "losses_val = np.zeros((n_epoch))\n",
        "errors_val = np.zeros((n_epoch))\n",
        "\n",
        "for epoch in range(n_epoch):\n",
        "  # loop over batches\n",
        "  for i, data in enumerate(data_loader):\n",
        "    # retrieve inputs and labels for this batch\n",
        "    x_batch, y_batch = data\n",
        "    # zero the parameter gradients\n",
        "    optimizer.zero_grad()\n",
        "    # forward pass -- calculate model output\n",
        "    pred = model(x_batch)\n",
        "    # compute the loss\n",
        "    loss = loss_function(pred, y_batch)\n",
        "    # backward pass\n",
        "    loss.backward()\n",
        "    # SGD update\n",
        "    optimizer.step()\n",
        "\n",
        "  # Run whole dataset to get statistics -- normally wouldn't do this\n",
        "  pred_train = model(x_train)\n",
        "  pred_val = model(x_val)\n",
        "  _, predicted_train_class = torch.max(pred_train.data, 1)\n",
        "  _, predicted_val_class = torch.max(pred_val.data, 1)\n",
        "  errors_train[epoch] = 100 - 100 * (predicted_train_class == y_train).float().sum() / len(y_train)\n",
        "  errors_val[epoch]= 100 - 100 * (predicted_val_class == y_val).float().sum() / len(y_val)\n",
        "  losses_train[epoch] = loss_function(pred_train, y_train).item()\n",
        "  losses_val[epoch]= loss_function(pred_val, y_val).item()\n",
        "  print(f'Epoch {epoch:5d}, train loss {losses_train[epoch]:.6f}, train error {errors_train[epoch]:3.2f},  val loss {losses_val[epoch]:.6f}, percent error {errors_val[epoch]:3.2f}')\n",
        "\n",
        "  # tell scheduler to consider updating learning rate\n",
        "  scheduler.step()"
      ],
      "metadata": {
        "id": "NYw8I_3mmX5c",
        "outputId": "9125736f-cb63-4cd9-bd83-0c53ef3242aa",
        "colab": {
          "base_uri": "https://localhost:8080/"
        }
      },
      "execution_count": 15,
      "outputs": [
        {
          "output_type": "stream",
          "name": "stdout",
          "text": [
            "Initialized MLPBase model with 25310 parameters\n",
            "Epoch     0, train loss 1.600205, train error 61.65,  val loss 1.685230, percent error 67.80\n",
            "Epoch     1, train loss 1.329416, train error 48.03,  val loss 1.471780, percent error 59.80\n",
            "Epoch     2, train loss 1.127269, train error 39.38,  val loss 1.333644, percent error 50.50\n",
            "Epoch     3, train loss 0.977644, train error 35.30,  val loss 1.211359, percent error 46.70\n",
            "Epoch     4, train loss 0.888079, train error 31.70,  val loss 1.185226, percent error 44.70\n",
            "Epoch     5, train loss 0.783674, train error 27.45,  val loss 1.161091, percent error 45.10\n",
            "Epoch     6, train loss 0.687221, train error 24.20,  val loss 1.108807, percent error 41.30\n",
            "Epoch     7, train loss 0.667012, train error 23.50,  val loss 1.105009, percent error 42.20\n",
            "Epoch     8, train loss 0.558526, train error 19.38,  val loss 1.111893, percent error 40.90\n",
            "Epoch     9, train loss 0.517482, train error 17.55,  val loss 1.159677, percent error 41.40\n",
            "Epoch    10, train loss 0.472984, train error 16.35,  val loss 1.225354, percent error 43.20\n",
            "Epoch    11, train loss 0.475303, train error 17.75,  val loss 1.337469, percent error 44.90\n",
            "Epoch    12, train loss 0.410042, train error 14.72,  val loss 1.339991, percent error 43.80\n",
            "Epoch    13, train loss 0.333035, train error 11.10,  val loss 1.288319, percent error 40.00\n",
            "Epoch    14, train loss 0.270662, train error 8.40,  val loss 1.306784, percent error 40.20\n",
            "Epoch    15, train loss 0.241045, train error 7.57,  val loss 1.377356, percent error 40.20\n",
            "Epoch    16, train loss 0.254995, train error 9.18,  val loss 1.454210, percent error 40.50\n",
            "Epoch    17, train loss 0.194377, train error 6.15,  val loss 1.409847, percent error 38.60\n",
            "Epoch    18, train loss 0.199638, train error 6.85,  val loss 1.495647, percent error 38.60\n",
            "Epoch    19, train loss 0.161472, train error 4.70,  val loss 1.525421, percent error 38.30\n",
            "Epoch    20, train loss 0.067257, train error 0.60,  val loss 1.439590, percent error 36.90\n",
            "Epoch    21, train loss 0.046188, train error 0.15,  val loss 1.462234, percent error 36.70\n",
            "Epoch    22, train loss 0.036221, train error 0.07,  val loss 1.483185, percent error 37.00\n",
            "Epoch    23, train loss 0.031243, train error 0.05,  val loss 1.518573, percent error 36.20\n",
            "Epoch    24, train loss 0.026588, train error 0.00,  val loss 1.556106, percent error 35.70\n",
            "Epoch    25, train loss 0.023535, train error 0.00,  val loss 1.574697, percent error 36.80\n",
            "Epoch    26, train loss 0.021246, train error 0.00,  val loss 1.598603, percent error 36.20\n",
            "Epoch    27, train loss 0.019450, train error 0.00,  val loss 1.616469, percent error 37.00\n",
            "Epoch    28, train loss 0.017781, train error 0.00,  val loss 1.639504, percent error 36.80\n",
            "Epoch    29, train loss 0.016204, train error 0.00,  val loss 1.663017, percent error 37.10\n",
            "Epoch    30, train loss 0.015155, train error 0.00,  val loss 1.681350, percent error 36.70\n",
            "Epoch    31, train loss 0.014281, train error 0.00,  val loss 1.696401, percent error 36.50\n",
            "Epoch    32, train loss 0.013103, train error 0.00,  val loss 1.718238, percent error 37.10\n",
            "Epoch    33, train loss 0.012399, train error 0.00,  val loss 1.742544, percent error 36.60\n",
            "Epoch    34, train loss 0.011559, train error 0.00,  val loss 1.745462, percent error 36.50\n",
            "Epoch    35, train loss 0.010944, train error 0.00,  val loss 1.770598, percent error 36.80\n",
            "Epoch    36, train loss 0.010407, train error 0.00,  val loss 1.778422, percent error 36.80\n",
            "Epoch    37, train loss 0.009885, train error 0.00,  val loss 1.791621, percent error 37.30\n",
            "Epoch    38, train loss 0.009327, train error 0.00,  val loss 1.801344, percent error 37.40\n",
            "Epoch    39, train loss 0.008879, train error 0.00,  val loss 1.818975, percent error 37.00\n",
            "Epoch    40, train loss 0.008607, train error 0.00,  val loss 1.820547, percent error 37.00\n",
            "Epoch    41, train loss 0.008417, train error 0.00,  val loss 1.828017, percent error 37.00\n",
            "Epoch    42, train loss 0.008231, train error 0.00,  val loss 1.831828, percent error 37.30\n",
            "Epoch    43, train loss 0.008060, train error 0.00,  val loss 1.838876, percent error 37.20\n",
            "Epoch    44, train loss 0.007887, train error 0.00,  val loss 1.843214, percent error 37.20\n",
            "Epoch    45, train loss 0.007735, train error 0.00,  val loss 1.849231, percent error 37.00\n",
            "Epoch    46, train loss 0.007591, train error 0.00,  val loss 1.855557, percent error 37.50\n",
            "Epoch    47, train loss 0.007425, train error 0.00,  val loss 1.859830, percent error 37.30\n",
            "Epoch    48, train loss 0.007282, train error 0.00,  val loss 1.863634, percent error 37.30\n",
            "Epoch    49, train loss 0.007143, train error 0.00,  val loss 1.871221, percent error 37.40\n",
            "Epoch    50, train loss 0.007009, train error 0.00,  val loss 1.874363, percent error 37.40\n",
            "Epoch    51, train loss 0.006886, train error 0.00,  val loss 1.878958, percent error 37.00\n",
            "Epoch    52, train loss 0.006759, train error 0.00,  val loss 1.885936, percent error 37.50\n",
            "Epoch    53, train loss 0.006632, train error 0.00,  val loss 1.889350, percent error 37.30\n",
            "Epoch    54, train loss 0.006515, train error 0.00,  val loss 1.892533, percent error 37.30\n",
            "Epoch    55, train loss 0.006399, train error 0.00,  val loss 1.898484, percent error 37.50\n",
            "Epoch    56, train loss 0.006289, train error 0.00,  val loss 1.902056, percent error 37.20\n",
            "Epoch    57, train loss 0.006183, train error 0.00,  val loss 1.908570, percent error 37.50\n",
            "Epoch    58, train loss 0.006076, train error 0.00,  val loss 1.913522, percent error 37.50\n",
            "Epoch    59, train loss 0.005979, train error 0.00,  val loss 1.916709, percent error 37.50\n",
            "Epoch    60, train loss 0.005923, train error 0.00,  val loss 1.919193, percent error 37.40\n",
            "Epoch    61, train loss 0.005873, train error 0.00,  val loss 1.921926, percent error 37.50\n",
            "Epoch    62, train loss 0.005826, train error 0.00,  val loss 1.923001, percent error 37.40\n",
            "Epoch    63, train loss 0.005779, train error 0.00,  val loss 1.925563, percent error 37.40\n",
            "Epoch    64, train loss 0.005732, train error 0.00,  val loss 1.927623, percent error 37.60\n",
            "Epoch    65, train loss 0.005687, train error 0.00,  val loss 1.929329, percent error 37.60\n",
            "Epoch    66, train loss 0.005642, train error 0.00,  val loss 1.931799, percent error 37.60\n",
            "Epoch    67, train loss 0.005598, train error 0.00,  val loss 1.934759, percent error 37.60\n",
            "Epoch    68, train loss 0.005555, train error 0.00,  val loss 1.936519, percent error 37.60\n",
            "Epoch    69, train loss 0.005511, train error 0.00,  val loss 1.937733, percent error 37.60\n",
            "Epoch    70, train loss 0.005470, train error 0.00,  val loss 1.940751, percent error 37.50\n",
            "Epoch    71, train loss 0.005427, train error 0.00,  val loss 1.942516, percent error 37.70\n",
            "Epoch    72, train loss 0.005387, train error 0.00,  val loss 1.944785, percent error 37.60\n",
            "Epoch    73, train loss 0.005345, train error 0.00,  val loss 1.946980, percent error 37.60\n",
            "Epoch    74, train loss 0.005306, train error 0.00,  val loss 1.948763, percent error 37.60\n",
            "Epoch    75, train loss 0.005268, train error 0.00,  val loss 1.951049, percent error 37.50\n",
            "Epoch    76, train loss 0.005229, train error 0.00,  val loss 1.952726, percent error 37.40\n",
            "Epoch    77, train loss 0.005190, train error 0.00,  val loss 1.954847, percent error 37.60\n",
            "Epoch    78, train loss 0.005151, train error 0.00,  val loss 1.956604, percent error 37.50\n",
            "Epoch    79, train loss 0.005114, train error 0.00,  val loss 1.958961, percent error 37.60\n",
            "Epoch    80, train loss 0.005094, train error 0.00,  val loss 1.959983, percent error 37.60\n",
            "Epoch    81, train loss 0.005076, train error 0.00,  val loss 1.960944, percent error 37.70\n",
            "Epoch    82, train loss 0.005057, train error 0.00,  val loss 1.961734, percent error 37.60\n",
            "Epoch    83, train loss 0.005040, train error 0.00,  val loss 1.962750, percent error 37.50\n",
            "Epoch    84, train loss 0.005021, train error 0.00,  val loss 1.963930, percent error 37.60\n",
            "Epoch    85, train loss 0.005003, train error 0.00,  val loss 1.964996, percent error 37.70\n",
            "Epoch    86, train loss 0.004986, train error 0.00,  val loss 1.965859, percent error 37.60\n",
            "Epoch    87, train loss 0.004968, train error 0.00,  val loss 1.966448, percent error 37.60\n",
            "Epoch    88, train loss 0.004951, train error 0.00,  val loss 1.967395, percent error 37.60\n",
            "Epoch    89, train loss 0.004933, train error 0.00,  val loss 1.968987, percent error 37.60\n",
            "Epoch    90, train loss 0.004916, train error 0.00,  val loss 1.969664, percent error 37.70\n",
            "Epoch    91, train loss 0.004898, train error 0.00,  val loss 1.970505, percent error 37.60\n",
            "Epoch    92, train loss 0.004881, train error 0.00,  val loss 1.971726, percent error 37.70\n",
            "Epoch    93, train loss 0.004864, train error 0.00,  val loss 1.972551, percent error 37.70\n",
            "Epoch    94, train loss 0.004848, train error 0.00,  val loss 1.973531, percent error 37.70\n",
            "Epoch    95, train loss 0.004831, train error 0.00,  val loss 1.974675, percent error 37.60\n",
            "Epoch    96, train loss 0.004814, train error 0.00,  val loss 1.975645, percent error 37.70\n",
            "Epoch    97, train loss 0.004798, train error 0.00,  val loss 1.976483, percent error 37.60\n",
            "Epoch    98, train loss 0.004781, train error 0.00,  val loss 1.977472, percent error 37.50\n",
            "Epoch    99, train loss 0.004765, train error 0.00,  val loss 1.978308, percent error 37.70\n"
          ]
        }
      ]
    },
    {
      "cell_type": "code",
      "source": [
        "# Plot the results\n",
        "fig, ax = plt.subplots()\n",
        "ax.plot(errors_train,'r-',label='train')\n",
        "ax.plot(errors_val,'b-',label='test')\n",
        "ax.set_ylim(0,100); ax.set_xlim(0,n_epoch)\n",
        "ax.set_xlabel('Epoch'); ax.set_ylabel('Error')\n",
        "ax.set_title('TrainError %3.2f, Val Error %3.2f'%(errors_train[-1],errors_val[-1]))\n",
        "ax.legend()\n",
        "plt.show()"
      ],
      "metadata": {
        "id": "CcP_VyEmE2sv",
        "outputId": "e09200e9-eedd-4551-b02d-d7422c2e4919",
        "colab": {
          "base_uri": "https://localhost:8080/",
          "height": 472
        }
      },
      "execution_count": 9,
      "outputs": [
        {
          "output_type": "display_data",
          "data": {
            "text/plain": [
              "<Figure size 640x480 with 1 Axes>"
            ],
            "image/png": "[encoded data removed]"
          },
          "metadata": {}
        }
      ]
    },
    {
      "cell_type": "markdown",
      "source": [
        "The primary motivation of residual networks is to allow training of much deeper networks.   \n",
        "\n",
        "TODO: Try running this network with and without the residual connections.  Does adding the residual connections change the performance?\n",
        "It decreases the training performance, but increases the test"
      ],
      "metadata": {
        "id": "wMmqhmxuAx0M"
      }
    }
  ]
}